{
  "nbformat": 4,
  "nbformat_minor": 0,
  "metadata": {
    "colab": {
      "provenance": [],
      "collapsed_sections": []
    },
    "kernelspec": {
      "name": "python3",
      "display_name": "Python 3"
    },
    "language_info": {
      "name": "python"
    }
  },
  "cells": [
    {
      "cell_type": "code",
      "execution_count": 1,
      "metadata": {
        "id": "_QOAS2iI5pEz"
      },
      "outputs": [],
      "source": [
        "import numpy as np\n",
        "import pandas as pd\n",
        "import seaborn as sns\n",
        "import sklearn\n",
        "import random\n",
        "import matplotlib.pyplot as plt\n",
        "from tqdm.notebook import tqdm"
      ]
    },
    {
      "cell_type": "code",
      "execution_count": 2,
      "metadata": {
        "colab": {
          "base_uri": "https://localhost:8080/"
        },
        "outputId": "570f777a-193a-4de8-93b3-8404a9215407",
        "id": "RpQwLX-eRwxg"
      },
      "outputs": [
        {
          "output_type": "stream",
          "name": "stdout",
          "text": [
            "Mounted at /content/drive\n"
          ]
        }
      ],
      "source": [
        "from google.colab import drive\n",
        "drive.mount('/content/drive')"
      ]
    },
    {
      "cell_type": "code",
      "execution_count": 3,
      "metadata": {
        "id": "V8UoOGwVRwxi"
      },
      "outputs": [],
      "source": [
        "data = pd.read_csv('/content/drive/MyDrive/foodrec/category_data_test.csv')"
      ]
    },
    {
      "cell_type": "markdown",
      "source": [
        "# 인기방식 추천"
      ],
      "metadata": {
        "id": "W4kN2-5tzdRg"
      }
    },
    {
      "cell_type": "code",
      "source": [
        "def rec_product(n_items): # 상위 30개중에 랜덤 9개 추출\n",
        "    product_count = data['product_id'].value_counts().to_frame()\n",
        "    product_count = product_count.reset_index().rename(columns = {\"index\":\"product_id\",\"product_id\":\"count\",\"count\":\"category\"})\n",
        "    change_data = pd.merge(data, product_count, on = \"product_id\")\n",
        "    df = change_data.drop(columns=['add_to_cart_order','department_id','order_id','user_id','eval_set','reordered','product_name',\n",
        "                               'aisle_id','category','order_number','order_dow','order_hour_of_day','days_since_prior_order','aisle','department'], axis=1)\n",
        "    df = df.drop_duplicates()\n",
        "    final_df = df.sort_values('count', ascending = False).head(30)\n",
        "    data_top30 = list(set(final_df['product_id']))\n",
        "    top_sample = random.sample(data_top30, k=9)\n",
        "    return top_sample\n",
        "rec_product(9) # 확인용"
      ],
      "metadata": {
        "colab": {
          "base_uri": "https://localhost:8080/"
        },
        "id": "2iNtdXUJ9DVf",
        "outputId": "e2898ddb-1423-4181-9547-24ca4a3f88c4"
      },
      "execution_count": 14,
      "outputs": [
        {
          "output_type": "execute_result",
          "data": {
            "text/plain": [
              "[39055, 28058, 27531, 19820, 32684, 46138, 10960, 48142, 21560]"
            ]
          },
          "metadata": {},
          "execution_count": 14
        }
      ]
    }
  ]
}
