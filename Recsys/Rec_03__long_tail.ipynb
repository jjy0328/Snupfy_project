{
  "nbformat": 4,
  "nbformat_minor": 0,
  "metadata": {
    "colab": {
      "provenance": [],
      "collapsed_sections": []
    },
    "kernelspec": {
      "name": "python3",
      "display_name": "Python 3"
    },
    "language_info": {
      "name": "python"
    }
  },
  "cells": [
    {
      "cell_type": "code",
      "execution_count": 2,
      "metadata": {
        "id": "_QOAS2iI5pEz"
      },
      "outputs": [],
      "source": [
        "import numpy as np\n",
        "import pandas as pd\n",
        "import seaborn as sns\n",
        "import sklearn\n",
        "import random\n",
        "import matplotlib.pyplot as plt\n",
        "from tqdm.notebook import tqdm"
      ]
    },
    {
      "cell_type": "code",
      "execution_count": 3,
      "metadata": {
        "colab": {
          "base_uri": "https://localhost:8080/"
        },
        "outputId": "b934092b-977a-46d7-f452-2c375d2c1db2",
        "id": "RpQwLX-eRwxg"
      },
      "outputs": [
        {
          "output_type": "stream",
          "name": "stdout",
          "text": [
            "Mounted at /content/drive\n"
          ]
        }
      ],
      "source": [
        "from google.colab import drive\n",
        "drive.mount('/content/drive')"
      ]
    },
    {
      "cell_type": "code",
      "execution_count": 4,
      "metadata": {
        "id": "V8UoOGwVRwxi"
      },
      "outputs": [],
      "source": [
        "data = pd.read_csv('/content/drive/MyDrive/foodrec/category_data_test.csv')"
      ]
    },
    {
      "cell_type": "code",
      "execution_count": 8,
      "metadata": {
        "colab": {
          "base_uri": "https://localhost:8080/"
        },
        "id": "tCC7AIXt9_zK",
        "outputId": "d785b9ac-8bcf-4690-b79a-59f975ed1046"
      },
      "outputs": [
        {
          "output_type": "execute_result",
          "data": {
            "text/plain": [
              "[12601, 40429, 8661, 5018, 241, 46551, 13655, 5720, 32443]"
            ]
          },
          "metadata": {},
          "execution_count": 8
        }
      ],
      "source": [
        "def rec_long_tail(n_items): # long-tail 제품 추천\n",
        "    product_count = data['product_id'].value_counts().to_frame()\n",
        "    product_count = product_count.reset_index().rename(columns = {\"index\":\"product_id\",\"product_id\":\"count\",\"count\":\"category\"})\n",
        "    change_data = pd.merge(data, product_count, on = \"product_id\")\n",
        "    df = change_data.drop(columns=['add_to_cart_order','department_id','order_id','user_id','eval_set','reordered','product_name',\n",
        "                               'aisle_id','category','order_number','order_dow','order_hour_of_day','days_since_prior_order','aisle','department'], axis=1)\n",
        "    df = df.drop_duplicates()\n",
        "    final_df = df.sort_values('count', ascending = True).head(30)\n",
        "    data_long30 = list(set(final_df['product_id']))\n",
        "    tail_sample = random.sample(data_long30, k=n_items)\n",
        "    return tail_sample\n",
        "rec_long_tail(9)"
      ]
    }
  ]
}